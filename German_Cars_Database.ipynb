{
 "cells": [
  {
   "cell_type": "markdown",
   "metadata": {},
   "source": [
    "Final Project Group 3 - German Automotive Industry "
   ]
  },
  {
   "cell_type": "code",
   "execution_count": 8,
   "metadata": {},
   "outputs": [],
   "source": [
    "# Imports \n",
    "import numpy as np\n",
    "import pandas as pd\n",
    "import matplotlib.pyplot as plt\n",
    "import seaborn as sns\n",
    "\n",
    "     "
   ]
  },
  {
   "cell_type": "markdown",
   "metadata": {},
   "source": [
    "For Our Project, we will be looking at the Resale Automotive Industry('Used Car) in Germany. \n",
    "\n",
    "To guide the direction of our analysis, we thought through the potential questions and insights our client who operates in the 'Used Car' industry may have. \n",
    "\n",
    "Here are six potential questions our client might ask related to the 'Used Car' Industry:\n",
    "\n",
    "Market Trends: What are the most common car brands and models sold in Germany?\n",
    "Pricing Analysis: What factors influence the price of a car (e.g., brand, mileage, year, fuel type)?\n",
    "Regional Insights: Are there regional differences in car preferences or pricing?\n",
    "Demand Insights: What is the average age and mileage of cars sold, and how does this differ by brand?\n",
    "Fuel Economy: Which brands or models provide the best fuel efficiency?\n",
    "Market Gaps: Are there any segments (price range, mileage, year) where supply is low compared to demand?"
   ]
  },
  {
   "cell_type": "markdown",
   "metadata": {},
   "source": [
    "After a meeting with our client, we identified our client's problems and objective and summarized in the points below: \n",
    "\n",
    "Problem 1: Understanding Market Demand:\n",
    "The client wants to identify which car brands/models and price points are most popular to better target inventory or marketing efforts.\n",
    "\n",
    "Problem 2: Optimizing Pricing Strategies:\n",
    "The client needs insights into how various factors (e.g., mileage, age, fuel type) affect car pricing to better predict and set competitive prices."
   ]
  },
  {
   "cell_type": "code",
   "execution_count": 9,
   "metadata": {},
   "outputs": [],
   "source": [
    "# Update the path to the location of your dataset and load the dataset\n",
    "\n",
    "used_cars_df = pd.read_csv(\"C:/Users/ReDI_NRW_800/Downloads/Database/German_Cars_Database.csv\")"
   ]
  },
  {
   "cell_type": "code",
   "execution_count": 10,
   "metadata": {},
   "outputs": [
    {
     "data": {
      "text/html": [
       "<div>\n",
       "<style scoped>\n",
       "    .dataframe tbody tr th:only-of-type {\n",
       "        vertical-align: middle;\n",
       "    }\n",
       "\n",
       "    .dataframe tbody tr th {\n",
       "        vertical-align: top;\n",
       "    }\n",
       "\n",
       "    .dataframe thead th {\n",
       "        text-align: right;\n",
       "    }\n",
       "</style>\n",
       "<table border=\"1\" class=\"dataframe\">\n",
       "  <thead>\n",
       "    <tr style=\"text-align: right;\">\n",
       "      <th></th>\n",
       "      <th>make</th>\n",
       "      <th>model</th>\n",
       "      <th>year</th>\n",
       "      <th>mileage</th>\n",
       "      <th>hp</th>\n",
       "      <th>gear</th>\n",
       "      <th>fuel</th>\n",
       "      <th>price</th>\n",
       "    </tr>\n",
       "  </thead>\n",
       "  <tbody>\n",
       "    <tr>\n",
       "      <th>0</th>\n",
       "      <td>Volkswagen</td>\n",
       "      <td>up</td>\n",
       "      <td>2019</td>\n",
       "      <td>31997</td>\n",
       "      <td>60</td>\n",
       "      <td>manual</td>\n",
       "      <td>gasoline</td>\n",
       "      <td>10190</td>\n",
       "    </tr>\n",
       "    <tr>\n",
       "      <th>1</th>\n",
       "      <td>Volkswagen</td>\n",
       "      <td>Polo</td>\n",
       "      <td>2022</td>\n",
       "      <td>100</td>\n",
       "      <td>95</td>\n",
       "      <td>manual</td>\n",
       "      <td>gasoline</td>\n",
       "      <td>24390</td>\n",
       "    </tr>\n",
       "    <tr>\n",
       "      <th>2</th>\n",
       "      <td>Volkswagen</td>\n",
       "      <td>Golf</td>\n",
       "      <td>2019</td>\n",
       "      <td>44607</td>\n",
       "      <td>116</td>\n",
       "      <td>manual</td>\n",
       "      <td>diesel</td>\n",
       "      <td>18630</td>\n",
       "    </tr>\n",
       "    <tr>\n",
       "      <th>3</th>\n",
       "      <td>Volkswagen</td>\n",
       "      <td>Tiguan</td>\n",
       "      <td>2019</td>\n",
       "      <td>42934</td>\n",
       "      <td>150</td>\n",
       "      <td>automatic</td>\n",
       "      <td>diesel</td>\n",
       "      <td>29990</td>\n",
       "    </tr>\n",
       "    <tr>\n",
       "      <th>4</th>\n",
       "      <td>Volkswagen</td>\n",
       "      <td>T6 Multivan</td>\n",
       "      <td>2021</td>\n",
       "      <td>10645</td>\n",
       "      <td>204</td>\n",
       "      <td>automatic</td>\n",
       "      <td>diesel</td>\n",
       "      <td>79890</td>\n",
       "    </tr>\n",
       "    <tr>\n",
       "      <th>5</th>\n",
       "      <td>Volkswagen</td>\n",
       "      <td>California</td>\n",
       "      <td>2021</td>\n",
       "      <td>0</td>\n",
       "      <td>114</td>\n",
       "      <td>automatic</td>\n",
       "      <td>gasoline</td>\n",
       "      <td>44393</td>\n",
       "    </tr>\n",
       "    <tr>\n",
       "      <th>6</th>\n",
       "      <td>Volkswagen</td>\n",
       "      <td>T-Roc</td>\n",
       "      <td>2021</td>\n",
       "      <td>8963</td>\n",
       "      <td>150</td>\n",
       "      <td>automatic</td>\n",
       "      <td>gasoline</td>\n",
       "      <td>34895</td>\n",
       "    </tr>\n",
       "    <tr>\n",
       "      <th>7</th>\n",
       "      <td>Volkswagen</td>\n",
       "      <td>Golf Variant</td>\n",
       "      <td>2019</td>\n",
       "      <td>96485</td>\n",
       "      <td>116</td>\n",
       "      <td>manual</td>\n",
       "      <td>diesel</td>\n",
       "      <td>17590</td>\n",
       "    </tr>\n",
       "    <tr>\n",
       "      <th>8</th>\n",
       "      <td>Volkswagen</td>\n",
       "      <td>Polo</td>\n",
       "      <td>2018</td>\n",
       "      <td>29732</td>\n",
       "      <td>116</td>\n",
       "      <td>automatic</td>\n",
       "      <td>gasoline</td>\n",
       "      <td>18980</td>\n",
       "    </tr>\n",
       "    <tr>\n",
       "      <th>9</th>\n",
       "      <td>Volkswagen</td>\n",
       "      <td>Sharan</td>\n",
       "      <td>2020</td>\n",
       "      <td>28840</td>\n",
       "      <td>177</td>\n",
       "      <td>automatic</td>\n",
       "      <td>diesel</td>\n",
       "      <td>44570</td>\n",
       "    </tr>\n",
       "  </tbody>\n",
       "</table>\n",
       "</div>"
      ],
      "text/plain": [
       "         make         model  year  mileage   hp       gear      fuel  price\n",
       "0  Volkswagen            up  2019    31997   60     manual  gasoline  10190\n",
       "1  Volkswagen          Polo  2022      100   95     manual  gasoline  24390\n",
       "2  Volkswagen          Golf  2019    44607  116     manual    diesel  18630\n",
       "3  Volkswagen        Tiguan  2019    42934  150  automatic    diesel  29990\n",
       "4  Volkswagen   T6 Multivan  2021    10645  204  automatic    diesel  79890\n",
       "5  Volkswagen    California  2021        0  114  automatic  gasoline  44393\n",
       "6  Volkswagen         T-Roc  2021     8963  150  automatic  gasoline  34895\n",
       "7  Volkswagen  Golf Variant  2019    96485  116     manual    diesel  17590\n",
       "8  Volkswagen          Polo  2018    29732  116  automatic  gasoline  18980\n",
       "9  Volkswagen        Sharan  2020    28840  177  automatic    diesel  44570"
      ]
     },
     "execution_count": 10,
     "metadata": {},
     "output_type": "execute_result"
    }
   ],
   "source": [
    "#Explore dataset\n",
    "\n",
    "used_cars_df.head(10)"
   ]
  },
  {
   "cell_type": "code",
   "execution_count": 11,
   "metadata": {},
   "outputs": [
    {
     "data": {
      "text/plain": [
       "(144840, 8)"
      ]
     },
     "execution_count": 11,
     "metadata": {},
     "output_type": "execute_result"
    }
   ],
   "source": [
    "# Check number of rows and columns\n",
    "\n",
    "used_cars_df.shape\n"
   ]
  },
  {
   "cell_type": "code",
   "execution_count": 12,
   "metadata": {},
   "outputs": [
    {
     "name": "stdout",
     "output_type": "stream",
     "text": [
      "<class 'pandas.core.frame.DataFrame'>\n",
      "RangeIndex: 144840 entries, 0 to 144839\n",
      "Data columns (total 8 columns):\n",
      " #   Column   Non-Null Count   Dtype \n",
      "---  ------   --------------   ----- \n",
      " 0   make     144840 non-null  object\n",
      " 1   model    144840 non-null  object\n",
      " 2   year     144840 non-null  int64 \n",
      " 3   mileage  144840 non-null  int64 \n",
      " 4   hp       144840 non-null  int64 \n",
      " 5   gear     144840 non-null  object\n",
      " 6   fuel     144840 non-null  object\n",
      " 7   price    144840 non-null  int64 \n",
      "dtypes: int64(4), object(4)\n",
      "memory usage: 8.8+ MB\n"
     ]
    }
   ],
   "source": [
    "\n",
    "# Overview of column data types and missing values\n",
    "used_cars_df.info()\n"
   ]
  },
  {
   "cell_type": "code",
   "execution_count": 14,
   "metadata": {},
   "outputs": [
    {
     "data": {
      "text/html": [
       "<div>\n",
       "<style scoped>\n",
       "    .dataframe tbody tr th:only-of-type {\n",
       "        vertical-align: middle;\n",
       "    }\n",
       "\n",
       "    .dataframe tbody tr th {\n",
       "        vertical-align: top;\n",
       "    }\n",
       "\n",
       "    .dataframe thead th {\n",
       "        text-align: right;\n",
       "    }\n",
       "</style>\n",
       "<table border=\"1\" class=\"dataframe\">\n",
       "  <thead>\n",
       "    <tr style=\"text-align: right;\">\n",
       "      <th></th>\n",
       "      <th>year</th>\n",
       "      <th>mileage</th>\n",
       "      <th>hp</th>\n",
       "      <th>price</th>\n",
       "    </tr>\n",
       "  </thead>\n",
       "  <tbody>\n",
       "    <tr>\n",
       "      <th>count</th>\n",
       "      <td>144840.000000</td>\n",
       "      <td>144840.000000</td>\n",
       "      <td>144840.000000</td>\n",
       "      <td>1.448400e+05</td>\n",
       "    </tr>\n",
       "    <tr>\n",
       "      <th>mean</th>\n",
       "      <td>2020.022397</td>\n",
       "      <td>23922.474579</td>\n",
       "      <td>176.288449</td>\n",
       "      <td>3.773257e+04</td>\n",
       "    </tr>\n",
       "    <tr>\n",
       "      <th>std</th>\n",
       "      <td>1.715864</td>\n",
       "      <td>28190.574548</td>\n",
       "      <td>88.576224</td>\n",
       "      <td>2.508925e+04</td>\n",
       "    </tr>\n",
       "    <tr>\n",
       "      <th>min</th>\n",
       "      <td>2012.000000</td>\n",
       "      <td>0.000000</td>\n",
       "      <td>1.000000</td>\n",
       "      <td>5.549000e+03</td>\n",
       "    </tr>\n",
       "    <tr>\n",
       "      <th>25%</th>\n",
       "      <td>2019.000000</td>\n",
       "      <td>20.000000</td>\n",
       "      <td>120.000000</td>\n",
       "      <td>2.347000e+04</td>\n",
       "    </tr>\n",
       "    <tr>\n",
       "      <th>50%</th>\n",
       "      <td>2020.000000</td>\n",
       "      <td>14090.000000</td>\n",
       "      <td>150.000000</td>\n",
       "      <td>3.170300e+04</td>\n",
       "    </tr>\n",
       "    <tr>\n",
       "      <th>75%</th>\n",
       "      <td>2021.000000</td>\n",
       "      <td>37147.500000</td>\n",
       "      <td>197.000000</td>\n",
       "      <td>4.399000e+04</td>\n",
       "    </tr>\n",
       "    <tr>\n",
       "      <th>max</th>\n",
       "      <td>2022.000000</td>\n",
       "      <td>150000.000000</td>\n",
       "      <td>843.000000</td>\n",
       "      <td>1.550000e+06</td>\n",
       "    </tr>\n",
       "  </tbody>\n",
       "</table>\n",
       "</div>"
      ],
      "text/plain": [
       "                year        mileage             hp         price\n",
       "count  144840.000000  144840.000000  144840.000000  1.448400e+05\n",
       "mean     2020.022397   23922.474579     176.288449  3.773257e+04\n",
       "std         1.715864   28190.574548      88.576224  2.508925e+04\n",
       "min      2012.000000       0.000000       1.000000  5.549000e+03\n",
       "25%      2019.000000      20.000000     120.000000  2.347000e+04\n",
       "50%      2020.000000   14090.000000     150.000000  3.170300e+04\n",
       "75%      2021.000000   37147.500000     197.000000  4.399000e+04\n",
       "max      2022.000000  150000.000000     843.000000  1.550000e+06"
      ]
     },
     "execution_count": 14,
     "metadata": {},
     "output_type": "execute_result"
    }
   ],
   "source": [
    "# Statistical summary for numerical columns\n",
    "used_cars_df.describe()"
   ]
  },
  {
   "cell_type": "code",
   "execution_count": null,
   "metadata": {},
   "outputs": [
    {
     "data": {
      "text/plain": [
       "array(['Volkswagen', 'Mercedes-Benz', 'Audi', 'BMW', 'Renault', 'Nissan',\n",
       "       'Abarth', 'Alfa', 'ALPINA', 'Aston', 'Bentley', 'Cadillac',\n",
       "       'Citroën', 'CUPRA', 'Dacia', 'Dodge', 'DS', 'Fiat', 'Ford',\n",
       "       'Honda', 'Hyundai', 'Infiniti', 'Jaguar', 'Jeep', 'Kia', 'Lada',\n",
       "       'Land', 'Lexus', 'Maserati', 'Mazda', 'MG', 'MINI', 'Mitsubishi',\n",
       "       'Opel', 'Peugeot', 'Piaggio', 'Porsche', 'Seat', 'Skoda', 'smart',\n",
       "       'Ssangyong', 'Subaru', 'Suzuki', 'Tesla', 'Toyota', 'Volvo',\n",
       "       'Polestar'], dtype=object)"
      ]
     },
     "execution_count": 17,
     "metadata": {},
     "output_type": "execute_result"
    }
   ],
   "source": [
    "#Inspect Column contents:\n",
    "# Unique values in column - Make \n",
    "used_cars_df['make'].unique()"
   ]
  },
  {
   "cell_type": "code",
   "execution_count": null,
   "metadata": {},
   "outputs": [
    {
     "data": {
      "text/plain": [
       "array(['up', 'Polo', 'Golf', 'Tiguan', 'T6 Multivan', 'California',\n",
       "       'T-Roc', 'Golf Variant', 'Sharan', 'Passat Alltrack', 'Arteon',\n",
       "       'T6', 'T6 California', 'T6 Kombi', 'T-Cross', 'Crafter', 'C 220',\n",
       "       'GLA 220', 'GLA 200', 'GLC 200', 'GLC 220', 'A 200', 'E 300',\n",
       "       'A 250', 'Vito', 'EQB', 'C 200', 'GLE 400', 'CLS 450', 'GLC 300',\n",
       "       'eVito', 'B 250', 'Citan', 'E 400', 'A3', 'A1', 'Q3', 'A6', 'RS3',\n",
       "       'Q5', 'A4 Allroad', 'Q2', 'A7', 'Q7', 'TT RS', 'A5', 'A4', '320',\n",
       "       'i3', 'X3', '118', 'X4', '218', '120', 'X1', '520', 'X5', '125',\n",
       "       '116', '340', '330', '318', 'M4', '530', 'Kadjar', 'Kangoo',\n",
       "       'Clio', 'Captur', 'ZOE', 'Megane', 'Twingo', 'Arkana', 'Talisman',\n",
       "       'Espace', 'Micra', 'Qashqai', 'Primastar', 'Juke', 'X-Trail',\n",
       "       'Frontier', 'Interstar', 'Leaf', '595C', '595', '595 Competizione',\n",
       "       '695', '500C', '124 Spider', '500', 'Romeo Stelvio',\n",
       "       'Romeo Giulietta', 'Romeo Giulia', 'Romeo MiTo', 'D5', 'B3', 'D3',\n",
       "       'B4', 'B5', 'XD3', 'Martin DB11', 'Martin V8 Vantage', 'Martin DB',\n",
       "       'Martin Vanquish', 'Martin DBS', 'Martin V12 Vantage',\n",
       "       'Martin Rapide', 'Flying Spur', 'New Continental GTC V8',\n",
       "       'Continental GT', 'Continental GTC', 'Mulsanne', 'Bentayga', 'CTS',\n",
       "       'XT4', 'Escalade', 'ATS', 'C5', 'Jumpy', 'SpaceTourer', 'C3', 'C4',\n",
       "       'DS3', 'C1', 'ë-Jumpy', 'Berlingo', 'Formentor', 'Ateca', 'Born',\n",
       "       'Duster', 'Sandero', 'RAM', 'Durango', 'Challenger',\n",
       "       'Automobiles DS 4', 'Automobiles DS 3', 'Automobiles DS 7',\n",
       "       'Automobiles DS 7 Crossback', 'Automobiles DS 3 Crossback',\n",
       "       'Scudo', '500X', 'Ducato', 'Talento', 'Tipo', 'Fiesta', 'Ka',\n",
       "       'S-Max', 'Focus', 'EcoSport', 'Puma', 'Transit', 'Tourneo Custom',\n",
       "       'Kuga', 'Ranger', 'Transit Courier', 'Explorer', 'Jazz', 'CR-V',\n",
       "       'Civic', 'HR-V', 'i30', 'i20', 'Tucson', 'Kona', 'IONIQ 5',\n",
       "       'IONIQ', 'i40', 'Santa Fe', 'i10', 'Q30', 'Q60', 'QX50', 'F-Type',\n",
       "       'F-Pace', 'XE', 'E-Pace', 'XF', 'Renegade', 'Wrangler', 'Compass',\n",
       "       'Grand Cherokee', \"cee'd\", 'Rio', 'Stonic', 'Sportage', 'Niro',\n",
       "       'Venga', \"pro cee'd\", 'XCeed', 'Picanto', 'Niva', 'Urban',\n",
       "       'Rover Defender', 'Rover Range Rover Evoque',\n",
       "       'Rover Range Rover Sport', 'Rover Range Rover Velar',\n",
       "       'Rover Discovery Sport', 'RX 450', 'LC 500', 'NX 300', 'RC 300',\n",
       "       'ES 300', 'RC F', 'CT 200h', 'Levante', 'Ghibli', 'Quattroporte',\n",
       "       '3', 'CX-30', 'CX-5', '6', '2', 'MX-5', 'CX-3', 'ZS', 'EHS',\n",
       "       'Marvel R', 'Cooper S', 'John Cooper Works Cabrio',\n",
       "       'Cooper Clubman', 'Cooper', 'Cooper Countryman', 'Cooper Cabrio',\n",
       "       'Cooper S Cabrio', 'John Cooper Works Clubman', 'Cooper S Clubman',\n",
       "       'One', 'One First', 'Cooper S Countryman', 'Space Star', 'Eclipse',\n",
       "       'L200', 'Outlander', 'Crossland X', 'Grandland X', 'Astra',\n",
       "       'Corsa-e', 'Mokka', 'Crossland', 'Insignia', 'Corsa', 'Adam',\n",
       "       'Combo', '2008', '208', '508', '3008', '308', 'Rifter', 'iOn',\n",
       "       'Boxer', '5008', '108', 'Traveller', 'Porter', 'APE', 'Cayenne',\n",
       "       'Macan', 'Cayman', 'Taycan', '991', 'Panamera', 'Boxster', '992',\n",
       "       '718', '911', 'Tarraco', 'Leon', 'Ibiza', 'Arona', 'Alhambra',\n",
       "       'Scala', 'Fabia', 'Kamiq', 'Karoq', 'Kodiaq', 'Octavia', 'Rapid',\n",
       "       'Superb', 'EQ fortwo', 'EQ forfour', 'ForFour', 'ForTwo',\n",
       "       'EQ fortwo cabrio', 'Tivoli', 'Korando', 'Actyon', 'REXTON',\n",
       "       'Forester', 'OUTBACK', 'WRX STI', 'Levorg', 'XV', 'Jimny',\n",
       "       'Vitara', 'Ignis', 'Celerio', 'Swift', 'SX4 S-Cross', 'Swace',\n",
       "       'Model 3', 'Model S', 'Tacoma', 'Auris', 'Yaris', 'Corolla',\n",
       "       'RAV 4', 'Yaris Cross', 'Aygo', 'Proace', 'C-HR',\n",
       "       'Auris Touring Sports', 'GR86', 'XC 60', 'V90', 'XC 40',\n",
       "       'V90 Cross Country', 'V60', 'XC 90', 'V40', 'Taigo', 'Touareg',\n",
       "       'Golf Sportsvan', 'T7 Multivan', 'Touran', 'Passat Variant',\n",
       "       'Caddy', 'T-Roc Cabriolet', 'T6 Caravelle', 'Passat', 'Amarok',\n",
       "       'ID.3', 'ID.4', 'Beetle', 'CC', 'Passat GTE Variant', 'Multivan',\n",
       "       'GLC 250', 'GLB 200', 'A 180', 'G 500', 'GLC 63 AMG', 'V 300',\n",
       "       'E 200', 'C 180', 'GLE 450 AMG', 'E 220', 'GLB 220', 'Sprinter',\n",
       "       'GLA 250', 'E 63 AMG', 'GLE 63 AMG', 'B 200', 'EQS', 'A 220',\n",
       "       'CLA 200', 'CLS 400', 'GLE 300 AMG', 'V 250', 'GLE 53 AMG', 'EQV',\n",
       "       'C 43 AMG', 'CLA 250', 'AMG GT', 'V 220', 'CLA 220', 'EQC 400',\n",
       "       'GLB 250', 'GLE 350', 'GT 43', 'C 300', 'E 350', 'GLA 180',\n",
       "       'CLS 300', 'B 180', 'EQE', 'G 350', 'S 560', 'E 450', 'GLC 350',\n",
       "       'A 35 AMG', 'AMG GT R', 'CLA 35 AMG', 'CLA 180',\n",
       "       'CLA 180 Shooting Brake', 'A 45 AMG', 'B 220', 'S 400', 'GLC 400',\n",
       "       'AMG E 53', 'EQA', 'CLA 45 AMG', 'C 250', 'C 400', 'SL 500',\n",
       "       'GLC 43 AMG', 'G 63 AMG', 'CLS 350', 'GLS 400', 'GLA 35 AMG',\n",
       "       'GLB 180', 'CLA 45', 'A 160', 'CLA 45 AMG Shooting Brake',\n",
       "       'C 63 AMG', 'S 350', 'SL 63 AMG', 'eSprinter', 'GLE 250',\n",
       "       'E 43 AMG', 'SLC 180', 'SL 350', 'SLC 300', 'X 250',\n",
       "       'CLA 200 Shooting Brake', 'GLE 43 AMG', 'E 250', 'S63', 'S 63 AMG',\n",
       "       'GLE 500', 'X 350 D', 'S 500', 'C 63 S', 'CLS 220',\n",
       "       'CLS 220 Shooting Brake', 'GLS 580', '300',\n",
       "       'CLA 250 Shooting Brake', 'GLS 350', 'SL 400', 'CLS 53 AMG',\n",
       "       'C 350', 'G 400', 'GLA 45 AMG', 'S 450', '250', 'SLC 43 AMG',\n",
       "       'V 200', 'C 160', 'AMG GT S', 'CLA Shooting Brake', 'Q4', 'RS6',\n",
       "       'TTS', 'S6', 'RSQ3', 'TT', 'A6 Allroad', 'RS4', 'SQ5', 'Q8', 'S5',\n",
       "       'S3', 'e-tron', 'A8', 'RS5', 'SQ7', 'RS7', 'RS e-tron GT', 'S1',\n",
       "       'S8', 'RSQ8', 'SQ8', 'S7', 'SQ2', 'S4', 'R8', '540', '430', 'X2',\n",
       "       '840', '420', '218 Gran Coupé', '850', '220', '750', '128',\n",
       "       '420 Gran Coupe', 'M2', '430 Gran Coupe', '440', 'X6 M50', 'Z4 M',\n",
       "       'X5 M50', 'M3', 'iX3', 'M135', '525', '225 Active Tourer', '216',\n",
       "       'X5 M', 'X6', 'M5', '220 Active Tourer', '220 Gran Coupé',\n",
       "       '218 Active Tourer', 'Z4', 'M550', 'X7', '435', 'M140i', 'M235i',\n",
       "       '730', 'X4 M40', '740', '745', '640', '225', '630',\n",
       "       '330 Gran Turismo', 'M6', 'M240i', '418', '218 Gran Tourer', '535',\n",
       "       '230', 'i8', '220 Gran Tourer', 'X6 M', '316', '325', '228',\n",
       "       '320 Gran Turismo', '335 Gran Turismo', '335', '216 Active Tourer',\n",
       "       'Scenic', 'Master', 'Trafic', 'Koleos', 'Grand Scenic', 'Express',\n",
       "       'Alpine A110', 'Alaskan', 'NV300', 'Note', 'Navara', 'NV200',\n",
       "       'Pulsar', '370Z', 'NV400', 'GT-R', 'Murano', 'e-NV200', 'Evalia',\n",
       "       'Altima', '595 Turismo', '695C', 'Jumper', 'Grand C4',\n",
       "       'C4 Picasso', 'C4 Cactus', 'Grand C4 Picasso', 'DS', 'DS4',\n",
       "       'DS4 Crossback', 'DS5', 'C-Elysee', 'Lodgy', 'Spring', 'Logan',\n",
       "       'Dokker', 'Charger', 'Automobiles DS9', 'Panda', 'Doblo',\n",
       "       'Fiorino', '500S', '500E', '500L', 'Fullback', 'Qubo',\n",
       "       '500L Trekking', 'Ulysse', 'Punto', 'E-Ducato', 'Mustang Mach-E',\n",
       "       'Tourneo Connect', 'B-Max', 'Mondeo', 'Mustang', 'Galaxy',\n",
       "       'Transit Custom', 'Edge', 'Tourneo', 'Tourneo Courier', 'C-Max',\n",
       "       'Transit Connect', 'Grand Tourneo', 'Raptor', 'Grand C-Max',\n",
       "       'Bronco', 'e', 'Insight', 'Staria', 'ix35', 'Kona Elektro',\n",
       "       'BAYON', 'ix20', 'Elantra', 'NEXO', 'H-1', 'Veloster', 'I-Pace',\n",
       "       'XJ', 'Cherokee', 'Gladiator', 'Wagoneer', 'Optima', 'Soul',\n",
       "       'Sorento', 'Stinger', 'e-Niro', 'Carens', 'e-Soul',\n",
       "       \"cee'd Sporty Wagon\", 'Rover Discovery', 'Rover Range Rover',\n",
       "       'GS 450', 'IS 300', 'RC 200', 'GranCabrio', 'MX-30', '5',\n",
       "       'John Cooper Works', 'One Cabrio', 'One Clubman', 'One D',\n",
       "       'One D Countryman', 'One Countryman', 'Cooper D',\n",
       "       'Cooper D Clubman', 'One D Clubman', 'Cooper D Cabrio',\n",
       "       'Cooper S Roadster', 'Cooper D Country',\n",
       "       'John Cooper Works Countryman', 'Cooper S D', 'ASX', 'Pajero',\n",
       "       'Plug-in Hybrid Outlander', 'Lancer', 'i-MiEV', 'Canter', 'Movano',\n",
       "       'Vivaro', 'Antara', 'Zafira', 'Meriva', 'Cascada', 'Karl',\n",
       "       'Zafira Tourer', 'Ampera', 'Mokka-e', 'Insignia CT',\n",
       "       'Zafira-e Life', 'Partner', 'Expert', 'Partner Tepee', 'RCZ',\n",
       "       'e-208', 'e-2008', 'e-Traveller', 'Toledo', 'Mii', 'ENYAQ iV',\n",
       "       'Citigo', 'Yeti', 'Roomster', 'MUSSO', 'BRZ', 'Impreza', 'Baleno',\n",
       "       'Grand Vitara', 'Avensis', 'Sienna', 'Supra', 'Land Cruiser',\n",
       "       'Verso', 'Hilux', 'Verso-S', 'Camry', 'Mirai', 'Tundra', 'Prius',\n",
       "       'Highlander', 'MR 2', 'GT86', 'FJ', 'S90', 'S60', 'V60 CC',\n",
       "       'V40 CC', 'S60 CC', 'T5 Multivan', 'Scirocco', 'C 450 AMG',\n",
       "       'S 580', 'SLC 200', 'GLS 63 AMG', 'SLK 200',\n",
       "       'CLA 220 Shooting Brake', 'B 160', 'AMG GT C', 'CLS 250', '528',\n",
       "       '216 Gran Tourer', 'M760', '440 Gran Coupe', '318 Gran Turismo',\n",
       "       '545', '620 Gran Turismo', '328', '114', '435 Gran Coupe',\n",
       "       '220 Coupé', 'Twizy', 'NV250', 'QX70', 'e-Rifter', '1', '964',\n",
       "       'Altea', 'Rodius', 'Legacy', 'SX4', 'T5', 'Passat CC',\n",
       "       'CLS 63 AMG', 'CLS 500', '428'], dtype=object)"
      ]
     },
     "execution_count": 18,
     "metadata": {},
     "output_type": "execute_result"
    }
   ],
   "source": [
    "#Inspect Column contents:\n",
    "# Unique values in column - Model\n",
    "\n",
    "used_cars_df['model'].unique()"
   ]
  },
  {
   "cell_type": "code",
   "execution_count": null,
   "metadata": {},
   "outputs": [
    {
     "data": {
      "text/plain": [
       "array([2019, 2022, 2021, 2018, 2020, 2016, 2017, 2015, 2014, 2012, 2013],\n",
       "      dtype=int64)"
      ]
     },
     "execution_count": 19,
     "metadata": {},
     "output_type": "execute_result"
    }
   ],
   "source": [
    "#Inspect Column contents:\n",
    "# Unique values in column - Year\n",
    "\n",
    "used_cars_df['year'].unique()"
   ]
  },
  {
   "cell_type": "code",
   "execution_count": null,
   "metadata": {},
   "outputs": [
    {
     "data": {
      "text/plain": [
       "array([31997,   100, 44607, ..., 15114, 18958, 90321], dtype=int64)"
      ]
     },
     "execution_count": 23,
     "metadata": {},
     "output_type": "execute_result"
    }
   ],
   "source": [
    "#Inspect Column contents:\n",
    "# Unique values in column - Mileage\n",
    "\n",
    "used_cars_df['mileage'].unique()"
   ]
  },
  {
   "cell_type": "code",
   "execution_count": 25,
   "metadata": {},
   "outputs": [
    {
     "data": {
      "text/plain": [
       "array(['10,190.00', '24,390.00', '18,630.00', ..., '34,844.00',\n",
       "       '37,839.00', '38,501.00'], dtype=object)"
      ]
     },
     "execution_count": 25,
     "metadata": {},
     "output_type": "execute_result"
    }
   ],
   "source": [
    "#Inspect Column contents:\n",
    "# Unique values in column - Price\n",
    "\n",
    "used_cars_df['price'].unique()"
   ]
  },
  {
   "cell_type": "code",
   "execution_count": 29,
   "metadata": {},
   "outputs": [
    {
     "name": "stdout",
     "output_type": "stream",
     "text": [
      "make       0\n",
      "model      0\n",
      "year       0\n",
      "mileage    0\n",
      "hp         0\n",
      "gear       0\n",
      "fuel       0\n",
      "price      0\n",
      "dtype: int64\n"
     ]
    }
   ],
   "source": [
    "#Identify missing values:\n",
    "# Count missing values in each column\n",
    "\n",
    "missing_values = used_cars_df.isnull().sum()\n",
    "print(missing_values)\n",
    "\n"
   ]
  },
  {
   "cell_type": "code",
   "execution_count": null,
   "metadata": {},
   "outputs": [
    {
     "name": "stdout",
     "output_type": "stream",
     "text": [
      "make\n",
      "Volkswagen       16551\n",
      "Audi             13777\n",
      "Mercedes-Benz    11416\n",
      "Skoda            10927\n",
      "BMW              10178\n",
      "Ford             10068\n",
      "Opel              9767\n",
      "Renault           8915\n",
      "Seat              8550\n",
      "Hyundai           4302\n",
      "Name: count, dtype: int64\n"
     ]
    }
   ],
   "source": [
    "# Top 10 popular makes\n",
    "top_brands = used_cars_df['make'].value_counts().head(10)\n",
    "\n",
    "print (top_brands)"
   ]
  },
  {
   "cell_type": "code",
   "execution_count": 33,
   "metadata": {},
   "outputs": [
    {
     "data": {
      "image/png": "[encoded data removed]",
      "text/plain": [
       "<Figure size 1000x600 with 1 Axes>"
      ]
     },
     "metadata": {},
     "output_type": "display_data"
    }
   ],
   "source": [
    "# Plot Top 10 popular makes \n",
    "\n",
    "top_brands.plot(kind='bar', figsize=(10, 6), color='skyblue')\n",
    "plt.title(\"Top 10 Used Car Brands in Germany\")\n",
    "plt.xlabel(\"Make\")\n",
    "plt.ylabel(\"Number of Cars\")\n",
    "plt.show()"
   ]
  },
  {
   "cell_type": "code",
   "execution_count": null,
   "metadata": {},
   "outputs": [],
   "source": [
    "#"
   ]
  }
 ],
 "metadata": {
  "kernelspec": {
   "display_name": "Python 3",
   "language": "python",
   "name": "python3"
  },
  "language_info": {
   "codemirror_mode": {
    "name": "ipython",
    "version": 3
   },
   "file_extension": ".py",
   "mimetype": "text/x-python",
   "name": "python",
   "nbconvert_exporter": "python",
   "pygments_lexer": "ipython3",
   "version": "3.12.8"
  }
 },
 "nbformat": 4,
 "nbformat_minor": 2
}
